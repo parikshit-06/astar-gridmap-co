{
 "cells": [
  {
   "cell_type": "code",
   "execution_count": null,
   "id": "b193600f",
   "metadata": {
    "vscode": {
     "languageId": "plaintext"
    }
   },
   "outputs": [],
   "source": [
    "import numpy as np\n",
    "from planning.a_star import AStar3D\n",
    "from parse_lidar import X_MIN, Y_MIN, Z_MIN, VOXEL_SIZE, world_to_grid, grid_to_world\n",
    "\n",
    "# Load grid\n",
    "grid = np.load(\"lidar/occupancy_grid.npy\")\n",
    "\n",
    "planner = AStar3D(grid)\n",
    "\n",
    "# Define start and goal in world coordinates\n",
    "start_world = (-10, -10, 0)\n",
    "goal_world = (10, 10, 2)\n",
    "\n",
    "origin = (X_MIN, Y_MIN, Z_MIN)\n",
    "\n",
    "start_idx = world_to_grid(start_world, VOXEL_SIZE, origin)\n",
    "goal_idx = world_to_grid(goal_world, VOXEL_SIZE, origin)\n",
    "\n",
    "path_voxels = planner.plan(start_idx, goal_idx)\n",
    "\n",
    "if path_voxels is None:\n",
    "    print(\"❌ No path found\")\n",
    "else:\n",
    "    path_world = [grid_to_world(p, VOXEL_SIZE, origin) for p in path_voxels]\n",
    "    print(\"✅ Path found with\", len(path_world), \"steps\")\n",
    "\n",
    "\n",
    "np.save(\"planning/path.npy\", path_world)"
   ]
  }
 ],
 "metadata": {
  "language_info": {
   "name": "python"
  }
 },
 "nbformat": 4,
 "nbformat_minor": 5
}
